{
 "cells": [
  {
   "cell_type": "code",
   "execution_count": 300,
   "metadata": {},
   "outputs": [],
   "source": [
    "import sklearn\n",
    "import pandas as pd\n",
    "from sklearn.model_selection import train_test_split\n",
    "from sklearn.linear_model import LinearRegression\n",
    "from sklearn.linear_model import LogisticRegression\n",
    "from sklearn.linear_model import LogisticRegression\n",
    "from matplotlib import pyplot as plt\n",
    "import numpy as np\n",
    "import statsmodels.formula.api as smf\n",
    "import seaborn as sns\n",
    "from sklearn.metrics import accuracy_score\n",
    "from sklearn.preprocessing import OneHotEncoder"
   ]
  },
  {
   "cell_type": "code",
   "execution_count": 301,
   "metadata": {},
   "outputs": [
    {
     "name": "stdout",
     "output_type": "stream",
     "text": [
      "2.12_Health_systems.csv           corr.png\r\n",
      "Bank_Personal_Loan_Modelling.xlsx heart.csv\r\n",
      "Churn_Modelling.csv               housing.csv\r\n",
      "Placement_Data_Full_Class.csv     sal.csv\r\n",
      "README.md                         titanic.csv\r\n",
      "StudentsPerformance.csv           trail.xlsx\r\n",
      "UniversalBank.csv                 vgsales.csv\r\n",
      "Untitled.ipynb\r\n"
     ]
    }
   ],
   "source": [
    "!ls"
   ]
  },
  {
   "cell_type": "code",
   "execution_count": 302,
   "metadata": {},
   "outputs": [],
   "source": [
    "df = pd.read_csv('UniversalBank.csv')"
   ]
  },
  {
   "cell_type": "code",
   "execution_count": 303,
   "metadata": {},
   "outputs": [],
   "source": [
    "df = pd.get_dummies(df, columns=[\"Education\"], prefix=[\"Education\"] )"
   ]
  },
  {
   "cell_type": "code",
   "execution_count": 304,
   "metadata": {},
   "outputs": [
    {
     "data": {
      "text/plain": [
       "Index(['ID', 'Age', 'Experience', 'Income', 'ZIP Code', 'Family', 'CCAvg',\n",
       "       'Mortgage', 'Personal Loan', 'Securities Account', 'CD Account',\n",
       "       'Online', 'CreditCard', 'Education_1', 'Education_2', 'Education_3'],\n",
       "      dtype='object')"
      ]
     },
     "execution_count": 304,
     "metadata": {},
     "output_type": "execute_result"
    }
   ],
   "source": [
    "df.columns"
   ]
  },
  {
   "cell_type": "code",
   "execution_count": 305,
   "metadata": {},
   "outputs": [
    {
     "data": {
      "text/plain": [
       "array([[1.000e+00, 2.500e+01, 1.000e+00, ..., 1.000e+00, 0.000e+00,\n",
       "        0.000e+00],\n",
       "       [2.000e+00, 4.500e+01, 1.900e+01, ..., 1.000e+00, 0.000e+00,\n",
       "        0.000e+00],\n",
       "       [3.000e+00, 3.900e+01, 1.500e+01, ..., 1.000e+00, 0.000e+00,\n",
       "        0.000e+00],\n",
       "       ...,\n",
       "       [4.998e+03, 6.300e+01, 3.900e+01, ..., 0.000e+00, 0.000e+00,\n",
       "        1.000e+00],\n",
       "       [4.999e+03, 6.500e+01, 4.000e+01, ..., 0.000e+00, 1.000e+00,\n",
       "        0.000e+00],\n",
       "       [5.000e+03, 2.800e+01, 4.000e+00, ..., 1.000e+00, 0.000e+00,\n",
       "        0.000e+00]])"
      ]
     },
     "execution_count": 305,
     "metadata": {},
     "output_type": "execute_result"
    }
   ],
   "source": [
    "df.values"
   ]
  },
  {
   "cell_type": "code",
   "execution_count": 306,
   "metadata": {},
   "outputs": [],
   "source": [
    "Y = df.CreditCard.values\n",
    "df.drop(['CreditCard','ZIP Code','ID'],axis=1,inplace=True)\n",
    "X = df.values"
   ]
  },
  {
   "cell_type": "code",
   "execution_count": 307,
   "metadata": {},
   "outputs": [
    {
     "data": {
      "text/plain": [
       "(array([4.533840e+01, 2.010460e+01, 7.377420e+01, 2.396400e+00,\n",
       "        1.937938e+00, 5.649880e+01, 9.600000e-02, 1.044000e-01,\n",
       "        6.040000e-02, 5.968000e-01, 4.192000e-01, 2.806000e-01,\n",
       "        3.002000e-01]),\n",
       " array([4.533840e+01, 2.010460e+01, 7.377420e+01, 2.396400e+00,\n",
       "        1.937938e+00, 5.649880e+01, 9.600000e-02, 1.044000e-01,\n",
       "        6.040000e-02, 5.968000e-01, 4.192000e-01, 2.806000e-01,\n",
       "        3.002000e-01]),\n",
       " (13,),\n",
       " (13,))"
      ]
     },
     "execution_count": 307,
     "metadata": {},
     "output_type": "execute_result"
    }
   ],
   "source": [
    "mean = np.mean(X,axis=0)\n",
    "std = np.mean(X,axis=0)\n",
    "mean,std,mean.shape,std.shape"
   ]
  },
  {
   "cell_type": "code",
   "execution_count": 308,
   "metadata": {},
   "outputs": [],
   "source": [
    "X = (X-mean)/std"
   ]
  },
  {
   "cell_type": "code",
   "execution_count": 309,
   "metadata": {},
   "outputs": [],
   "source": [
    "columns = df.columns"
   ]
  },
  {
   "cell_type": "code",
   "execution_count": 310,
   "metadata": {},
   "outputs": [
    {
     "data": {
      "text/plain": [
       "((5000, 13), (5000,))"
      ]
     },
     "execution_count": 310,
     "metadata": {},
     "output_type": "execute_result"
    }
   ],
   "source": [
    "X.shape,Y.shape"
   ]
  },
  {
   "cell_type": "code",
   "execution_count": null,
   "metadata": {},
   "outputs": [],
   "source": [
    "xTrain,xTest,yTrain,yTest=train_test_split(X,Y,test_size=0.33)"
   ]
  },
  {
   "cell_type": "code",
   "execution_count": null,
   "metadata": {},
   "outputs": [],
   "source": [
    "def LogClf():\n",
    "    from sklearn.linear_model import LogisticRegression\n",
    "    clf = LogisticRegression(random_state=0, solver='lbfgs',multi_class='ovr')\n",
    "    return clf\n",
    "\n",
    "def DTClf():\n",
    "    from sklearn.tree import DecisionTreeClassifier\n",
    "    clf = DecisionTreeClassifier(random_state=1,max_depth=5)\n",
    "    return clf\n",
    "def SVMClf():\n",
    "    from sklearn.svm import SVC\n",
    "    clf=SVC(C=1.0, cache_size=200, class_weight=None, coef0=0.0, decision_function_shape='ovr', degree=10, gamma='auto', kernel='rbf',max_iter=-1, probability=False, random_state=None, shrinking=True,tol=0.001, verbose=False)\n",
    "    return clf\n",
    "def NBClf():\n",
    "    from sklearn.naive_bayes import GaussianNB\n",
    "    clf=GaussianNB()\n",
    "    return clf\n",
    "\n",
    "def KNNClf():\n",
    "    from sklearn.neighbors import KNeighborsClassifier\n",
    "    clf=KNeighborsClassifier(n_neighbors=12)\n",
    "    return clf\n",
    "\n",
    "def MLPClf():\n",
    "    from sklearn.neural_network import MLPClassifier\n",
    "    clf=MLPClassifier(hidden_layer_sizes=(20, ), activation='relu', solver='adam', alpha=0.0001, batch_size='auto', learning_rate='constant', learning_rate_init=0.001, power_t=0.5, max_iter=1000, shuffle=True, random_state=None, tol=0.0001, verbose=False, warm_start=False, momentum=0.9, nesterovs_momentum=True, early_stopping=False, validation_fraction=0.1)\n",
    "    return clf\n",
    "\n",
    "def getAccTest(clf):\n",
    "    from sklearn.metrics import confusion_matrix\n",
    "    Y_pred=clf.predict(X_test)\n",
    "    return confusion_matrix(Y_test,Y_pred)\n",
    "def getAccTrain(clf):\n",
    "    from sklearn.metrics import confusion_matrix\n",
    "    Y_pred=clf.predict(X_train)\n",
    "    return confusion_matrix(Y_train,Y_pred)"
   ]
  },
  {
   "cell_type": "code",
   "execution_count": 311,
   "metadata": {},
   "outputs": [
    {
     "name": "stderr",
     "output_type": "stream",
     "text": [
      "/anaconda3/lib/python3.7/site-packages/sklearn/linear_model/logistic.py:432: FutureWarning: Default solver will be changed to 'lbfgs' in 0.22. Specify a solver to silence this warning.\n",
      "  FutureWarning)\n"
     ]
    }
   ],
   "source": [
    "LogReg=LogisticRegression().fit(xTrain,yTrain)"
   ]
  },
  {
   "cell_type": "code",
   "execution_count": 312,
   "metadata": {},
   "outputs": [
    {
     "name": "stdout",
     "output_type": "stream",
     "text": [
      "('Age', -0.23915914875951141)\n",
      "('Experience', 0.12228564546613405)\n",
      "('Income', -0.07242805498156413)\n",
      "('Family', 0.1312959563265444)\n",
      "('CCAvg', 0.03888083338460972)\n",
      "('Mortgage', -0.03598125645448322)\n",
      "('Personal Loan', -0.08960665010175058)\n",
      "('Securities Account', -0.12760030619200052)\n",
      "('CD Account', 0.21316899555322946)\n",
      "('Online', -0.2283485894114145)\n",
      "('Education_1', 0.009173664184700512)\n",
      "('Education_2', -0.0005648895049260984)\n",
      "('Education_3', -0.012282118691418431)\n"
     ]
    }
   ],
   "source": [
    "for i in zip(list(df.columns),LogReg.coef_[0].tolist()):\n",
    "    print(i)"
   ]
  },
  {
   "cell_type": "code",
   "execution_count": 313,
   "metadata": {},
   "outputs": [
    {
     "data": {
      "text/plain": [
       "[-0.23915914875951141,\n",
       " 0.12228564546613405,\n",
       " -0.07242805498156413,\n",
       " 0.1312959563265444,\n",
       " 0.03888083338460972,\n",
       " -0.03598125645448322,\n",
       " -0.08960665010175058,\n",
       " -0.12760030619200052,\n",
       " 0.21316899555322946,\n",
       " -0.2283485894114145,\n",
       " 0.009173664184700512,\n",
       " -0.0005648895049260984,\n",
       " -0.012282118691418431]"
      ]
     },
     "execution_count": 313,
     "metadata": {},
     "output_type": "execute_result"
    }
   ],
   "source": [
    "LogReg.coef_[0].tolist()"
   ]
  },
  {
   "cell_type": "code",
   "execution_count": 314,
   "metadata": {},
   "outputs": [],
   "source": [
    "yPred = LogReg.predict(xTest)"
   ]
  },
  {
   "cell_type": "code",
   "execution_count": 315,
   "metadata": {},
   "outputs": [
    {
     "data": {
      "text/plain": [
       "0.7472727272727273"
      ]
     },
     "execution_count": 315,
     "metadata": {},
     "output_type": "execute_result"
    }
   ],
   "source": [
    "accuracy_score(yPred,yTest)"
   ]
  }
 ],
 "metadata": {
  "kernelspec": {
   "display_name": "Python 3",
   "language": "python",
   "name": "python3"
  },
  "language_info": {
   "codemirror_mode": {
    "name": "ipython",
    "version": 3
   },
   "file_extension": ".py",
   "mimetype": "text/x-python",
   "name": "python",
   "nbconvert_exporter": "python",
   "pygments_lexer": "ipython3",
   "version": "3.7.3"
  }
 },
 "nbformat": 4,
 "nbformat_minor": 4
}
